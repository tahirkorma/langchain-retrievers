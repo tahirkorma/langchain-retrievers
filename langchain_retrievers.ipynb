{
  "nbformat": 4,
  "nbformat_minor": 0,
  "metadata": {
    "colab": {
      "provenance": []
    },
    "kernelspec": {
      "name": "python3",
      "display_name": "Python 3"
    },
    "language_info": {
      "name": "python"
    }
  },
  "cells": [
    {
      "cell_type": "code",
      "execution_count": 1,
      "metadata": {
        "id": "10VrgqON8XIx"
      },
      "outputs": [],
      "source": [
        "#import API info\n",
        "import os\n",
        "from google.colab import userdata\n",
        "os.environ['GOOGLE_API_KEY'] = userdata.get('GOOGLE_API_KEY')"
      ]
    },
    {
      "cell_type": "code",
      "source": [
        "#install packages\n",
        "!pip install langchain chromadb faiss-cpu tiktoken wikipedia langchain-community google-generativeai==0.8.5 google-ai-generativelanguage==0.6.15"
      ],
      "metadata": {
        "colab": {
          "base_uri": "https://localhost:8080/"
        },
        "id": "Wb_lqqOK-L-a",
        "outputId": "d88d8b43-39aa-43db-ec0c-bf57ebadcfe9"
      },
      "execution_count": 2,
      "outputs": [
        {
          "output_type": "stream",
          "name": "stdout",
          "text": [
            "Requirement already satisfied: langchain in /usr/local/lib/python3.12/dist-packages (0.3.27)\n",
            "Requirement already satisfied: chromadb in /usr/local/lib/python3.12/dist-packages (1.0.20)\n",
            "Requirement already satisfied: faiss-cpu in /usr/local/lib/python3.12/dist-packages (1.12.0)\n",
            "Requirement already satisfied: tiktoken in /usr/local/lib/python3.12/dist-packages (0.11.0)\n",
            "Requirement already satisfied: wikipedia in /usr/local/lib/python3.12/dist-packages (1.4.0)\n",
            "Requirement already satisfied: langchain-community in /usr/local/lib/python3.12/dist-packages (0.3.27)\n",
            "Requirement already satisfied: google-generativeai==0.8.5 in /usr/local/lib/python3.12/dist-packages (0.8.5)\n",
            "Requirement already satisfied: google-ai-generativelanguage==0.6.15 in /usr/local/lib/python3.12/dist-packages (0.6.15)\n",
            "Requirement already satisfied: google-api-core in /usr/local/lib/python3.12/dist-packages (from google-generativeai==0.8.5) (2.25.1)\n",
            "Requirement already satisfied: google-api-python-client in /usr/local/lib/python3.12/dist-packages (from google-generativeai==0.8.5) (2.179.0)\n",
            "Requirement already satisfied: google-auth>=2.15.0 in /usr/local/lib/python3.12/dist-packages (from google-generativeai==0.8.5) (2.38.0)\n",
            "Requirement already satisfied: protobuf in /usr/local/lib/python3.12/dist-packages (from google-generativeai==0.8.5) (5.29.5)\n",
            "Requirement already satisfied: pydantic in /usr/local/lib/python3.12/dist-packages (from google-generativeai==0.8.5) (2.11.7)\n",
            "Requirement already satisfied: tqdm in /usr/local/lib/python3.12/dist-packages (from google-generativeai==0.8.5) (4.67.1)\n",
            "Requirement already satisfied: typing-extensions in /usr/local/lib/python3.12/dist-packages (from google-generativeai==0.8.5) (4.14.1)\n",
            "Requirement already satisfied: proto-plus<2.0.0dev,>=1.22.3 in /usr/local/lib/python3.12/dist-packages (from google-ai-generativelanguage==0.6.15) (1.26.1)\n",
            "Requirement already satisfied: langchain-core<1.0.0,>=0.3.72 in /usr/local/lib/python3.12/dist-packages (from langchain) (0.3.74)\n",
            "Requirement already satisfied: langchain-text-splitters<1.0.0,>=0.3.9 in /usr/local/lib/python3.12/dist-packages (from langchain) (0.3.9)\n",
            "Requirement already satisfied: langsmith>=0.1.17 in /usr/local/lib/python3.12/dist-packages (from langchain) (0.4.14)\n",
            "Requirement already satisfied: SQLAlchemy<3,>=1.4 in /usr/local/lib/python3.12/dist-packages (from langchain) (2.0.43)\n",
            "Requirement already satisfied: requests<3,>=2 in /usr/local/lib/python3.12/dist-packages (from langchain) (2.32.4)\n",
            "Requirement already satisfied: PyYAML>=5.3 in /usr/local/lib/python3.12/dist-packages (from langchain) (6.0.2)\n",
            "Requirement already satisfied: build>=1.0.3 in /usr/local/lib/python3.12/dist-packages (from chromadb) (1.3.0)\n",
            "Requirement already satisfied: pybase64>=1.4.1 in /usr/local/lib/python3.12/dist-packages (from chromadb) (1.4.2)\n",
            "Requirement already satisfied: uvicorn>=0.18.3 in /usr/local/lib/python3.12/dist-packages (from uvicorn[standard]>=0.18.3->chromadb) (0.35.0)\n",
            "Requirement already satisfied: numpy>=1.22.5 in /usr/local/lib/python3.12/dist-packages (from chromadb) (2.0.2)\n",
            "Requirement already satisfied: posthog<6.0.0,>=2.4.0 in /usr/local/lib/python3.12/dist-packages (from chromadb) (5.4.0)\n",
            "Requirement already satisfied: onnxruntime>=1.14.1 in /usr/local/lib/python3.12/dist-packages (from chromadb) (1.22.1)\n",
            "Requirement already satisfied: opentelemetry-api>=1.2.0 in /usr/local/lib/python3.12/dist-packages (from chromadb) (1.36.0)\n",
            "Requirement already satisfied: opentelemetry-exporter-otlp-proto-grpc>=1.2.0 in /usr/local/lib/python3.12/dist-packages (from chromadb) (1.36.0)\n",
            "Requirement already satisfied: opentelemetry-sdk>=1.2.0 in /usr/local/lib/python3.12/dist-packages (from chromadb) (1.36.0)\n",
            "Requirement already satisfied: tokenizers>=0.13.2 in /usr/local/lib/python3.12/dist-packages (from chromadb) (0.21.4)\n",
            "Requirement already satisfied: pypika>=0.48.9 in /usr/local/lib/python3.12/dist-packages (from chromadb) (0.48.9)\n",
            "Requirement already satisfied: overrides>=7.3.1 in /usr/local/lib/python3.12/dist-packages (from chromadb) (7.7.0)\n",
            "Requirement already satisfied: importlib-resources in /usr/local/lib/python3.12/dist-packages (from chromadb) (6.5.2)\n",
            "Requirement already satisfied: grpcio>=1.58.0 in /usr/local/lib/python3.12/dist-packages (from chromadb) (1.74.0)\n",
            "Requirement already satisfied: bcrypt>=4.0.1 in /usr/local/lib/python3.12/dist-packages (from chromadb) (4.3.0)\n",
            "Requirement already satisfied: typer>=0.9.0 in /usr/local/lib/python3.12/dist-packages (from chromadb) (0.16.0)\n",
            "Requirement already satisfied: kubernetes>=28.1.0 in /usr/local/lib/python3.12/dist-packages (from chromadb) (33.1.0)\n",
            "Requirement already satisfied: tenacity>=8.2.3 in /usr/local/lib/python3.12/dist-packages (from chromadb) (8.5.0)\n",
            "Requirement already satisfied: mmh3>=4.0.1 in /usr/local/lib/python3.12/dist-packages (from chromadb) (5.2.0)\n",
            "Requirement already satisfied: orjson>=3.9.12 in /usr/local/lib/python3.12/dist-packages (from chromadb) (3.11.2)\n",
            "Requirement already satisfied: httpx>=0.27.0 in /usr/local/lib/python3.12/dist-packages (from chromadb) (0.28.1)\n",
            "Requirement already satisfied: rich>=10.11.0 in /usr/local/lib/python3.12/dist-packages (from chromadb) (13.9.4)\n",
            "Requirement already satisfied: jsonschema>=4.19.0 in /usr/local/lib/python3.12/dist-packages (from chromadb) (4.25.1)\n",
            "Requirement already satisfied: packaging in /usr/local/lib/python3.12/dist-packages (from faiss-cpu) (24.2)\n",
            "Requirement already satisfied: regex>=2022.1.18 in /usr/local/lib/python3.12/dist-packages (from tiktoken) (2024.11.6)\n",
            "Requirement already satisfied: beautifulsoup4 in /usr/local/lib/python3.12/dist-packages (from wikipedia) (4.13.4)\n",
            "Requirement already satisfied: aiohttp<4.0.0,>=3.8.3 in /usr/local/lib/python3.12/dist-packages (from langchain-community) (3.12.15)\n",
            "Requirement already satisfied: dataclasses-json<0.7,>=0.5.7 in /usr/local/lib/python3.12/dist-packages (from langchain-community) (0.6.7)\n",
            "Requirement already satisfied: pydantic-settings<3.0.0,>=2.4.0 in /usr/local/lib/python3.12/dist-packages (from langchain-community) (2.10.1)\n",
            "Requirement already satisfied: httpx-sse<1.0.0,>=0.4.0 in /usr/local/lib/python3.12/dist-packages (from langchain-community) (0.4.1)\n",
            "Requirement already satisfied: aiohappyeyeballs>=2.5.0 in /usr/local/lib/python3.12/dist-packages (from aiohttp<4.0.0,>=3.8.3->langchain-community) (2.6.1)\n",
            "Requirement already satisfied: aiosignal>=1.4.0 in /usr/local/lib/python3.12/dist-packages (from aiohttp<4.0.0,>=3.8.3->langchain-community) (1.4.0)\n",
            "Requirement already satisfied: attrs>=17.3.0 in /usr/local/lib/python3.12/dist-packages (from aiohttp<4.0.0,>=3.8.3->langchain-community) (25.3.0)\n",
            "Requirement already satisfied: frozenlist>=1.1.1 in /usr/local/lib/python3.12/dist-packages (from aiohttp<4.0.0,>=3.8.3->langchain-community) (1.7.0)\n",
            "Requirement already satisfied: multidict<7.0,>=4.5 in /usr/local/lib/python3.12/dist-packages (from aiohttp<4.0.0,>=3.8.3->langchain-community) (6.6.4)\n",
            "Requirement already satisfied: propcache>=0.2.0 in /usr/local/lib/python3.12/dist-packages (from aiohttp<4.0.0,>=3.8.3->langchain-community) (0.3.2)\n",
            "Requirement already satisfied: yarl<2.0,>=1.17.0 in /usr/local/lib/python3.12/dist-packages (from aiohttp<4.0.0,>=3.8.3->langchain-community) (1.20.1)\n",
            "Requirement already satisfied: pyproject_hooks in /usr/local/lib/python3.12/dist-packages (from build>=1.0.3->chromadb) (1.2.0)\n",
            "Requirement already satisfied: marshmallow<4.0.0,>=3.18.0 in /usr/local/lib/python3.12/dist-packages (from dataclasses-json<0.7,>=0.5.7->langchain-community) (3.26.1)\n",
            "Requirement already satisfied: typing-inspect<1,>=0.4.0 in /usr/local/lib/python3.12/dist-packages (from dataclasses-json<0.7,>=0.5.7->langchain-community) (0.9.0)\n",
            "Requirement already satisfied: googleapis-common-protos<2.0.0,>=1.56.2 in /usr/local/lib/python3.12/dist-packages (from google-api-core->google-generativeai==0.8.5) (1.70.0)\n",
            "Requirement already satisfied: grpcio-status<2.0.0,>=1.33.2 in /usr/local/lib/python3.12/dist-packages (from google-api-core[grpc]!=2.0.*,!=2.1.*,!=2.10.*,!=2.2.*,!=2.3.*,!=2.4.*,!=2.5.*,!=2.6.*,!=2.7.*,!=2.8.*,!=2.9.*,<3.0.0dev,>=1.34.1->google-ai-generativelanguage==0.6.15) (1.71.2)\n",
            "Requirement already satisfied: cachetools<6.0,>=2.0.0 in /usr/local/lib/python3.12/dist-packages (from google-auth>=2.15.0->google-generativeai==0.8.5) (5.5.2)\n",
            "Requirement already satisfied: pyasn1-modules>=0.2.1 in /usr/local/lib/python3.12/dist-packages (from google-auth>=2.15.0->google-generativeai==0.8.5) (0.4.2)\n",
            "Requirement already satisfied: rsa<5,>=3.1.4 in /usr/local/lib/python3.12/dist-packages (from google-auth>=2.15.0->google-generativeai==0.8.5) (4.9.1)\n",
            "Requirement already satisfied: anyio in /usr/local/lib/python3.12/dist-packages (from httpx>=0.27.0->chromadb) (4.10.0)\n",
            "Requirement already satisfied: certifi in /usr/local/lib/python3.12/dist-packages (from httpx>=0.27.0->chromadb) (2025.8.3)\n",
            "Requirement already satisfied: httpcore==1.* in /usr/local/lib/python3.12/dist-packages (from httpx>=0.27.0->chromadb) (1.0.9)\n",
            "Requirement already satisfied: idna in /usr/local/lib/python3.12/dist-packages (from httpx>=0.27.0->chromadb) (3.10)\n",
            "Requirement already satisfied: h11>=0.16 in /usr/local/lib/python3.12/dist-packages (from httpcore==1.*->httpx>=0.27.0->chromadb) (0.16.0)\n",
            "Requirement already satisfied: jsonschema-specifications>=2023.03.6 in /usr/local/lib/python3.12/dist-packages (from jsonschema>=4.19.0->chromadb) (2025.4.1)\n",
            "Requirement already satisfied: referencing>=0.28.4 in /usr/local/lib/python3.12/dist-packages (from jsonschema>=4.19.0->chromadb) (0.36.2)\n",
            "Requirement already satisfied: rpds-py>=0.7.1 in /usr/local/lib/python3.12/dist-packages (from jsonschema>=4.19.0->chromadb) (0.27.0)\n",
            "Requirement already satisfied: six>=1.9.0 in /usr/local/lib/python3.12/dist-packages (from kubernetes>=28.1.0->chromadb) (1.17.0)\n",
            "Requirement already satisfied: python-dateutil>=2.5.3 in /usr/local/lib/python3.12/dist-packages (from kubernetes>=28.1.0->chromadb) (2.9.0.post0)\n",
            "Requirement already satisfied: websocket-client!=0.40.0,!=0.41.*,!=0.42.*,>=0.32.0 in /usr/local/lib/python3.12/dist-packages (from kubernetes>=28.1.0->chromadb) (1.8.0)\n",
            "Requirement already satisfied: requests-oauthlib in /usr/local/lib/python3.12/dist-packages (from kubernetes>=28.1.0->chromadb) (2.0.0)\n",
            "Requirement already satisfied: oauthlib>=3.2.2 in /usr/local/lib/python3.12/dist-packages (from kubernetes>=28.1.0->chromadb) (3.3.1)\n",
            "Requirement already satisfied: urllib3>=1.24.2 in /usr/local/lib/python3.12/dist-packages (from kubernetes>=28.1.0->chromadb) (2.5.0)\n",
            "Requirement already satisfied: durationpy>=0.7 in /usr/local/lib/python3.12/dist-packages (from kubernetes>=28.1.0->chromadb) (0.10)\n",
            "Requirement already satisfied: jsonpatch<2.0,>=1.33 in /usr/local/lib/python3.12/dist-packages (from langchain-core<1.0.0,>=0.3.72->langchain) (1.33)\n",
            "Requirement already satisfied: requests-toolbelt>=1.0.0 in /usr/local/lib/python3.12/dist-packages (from langsmith>=0.1.17->langchain) (1.0.0)\n",
            "Requirement already satisfied: zstandard>=0.23.0 in /usr/local/lib/python3.12/dist-packages (from langsmith>=0.1.17->langchain) (0.24.0)\n",
            "Requirement already satisfied: coloredlogs in /usr/local/lib/python3.12/dist-packages (from onnxruntime>=1.14.1->chromadb) (15.0.1)\n",
            "Requirement already satisfied: flatbuffers in /usr/local/lib/python3.12/dist-packages (from onnxruntime>=1.14.1->chromadb) (25.2.10)\n",
            "Requirement already satisfied: sympy in /usr/local/lib/python3.12/dist-packages (from onnxruntime>=1.14.1->chromadb) (1.13.3)\n",
            "Requirement already satisfied: importlib-metadata<8.8.0,>=6.0 in /usr/local/lib/python3.12/dist-packages (from opentelemetry-api>=1.2.0->chromadb) (8.7.0)\n",
            "Requirement already satisfied: opentelemetry-exporter-otlp-proto-common==1.36.0 in /usr/local/lib/python3.12/dist-packages (from opentelemetry-exporter-otlp-proto-grpc>=1.2.0->chromadb) (1.36.0)\n",
            "Requirement already satisfied: opentelemetry-proto==1.36.0 in /usr/local/lib/python3.12/dist-packages (from opentelemetry-exporter-otlp-proto-grpc>=1.2.0->chromadb) (1.36.0)\n",
            "Requirement already satisfied: opentelemetry-semantic-conventions==0.57b0 in /usr/local/lib/python3.12/dist-packages (from opentelemetry-sdk>=1.2.0->chromadb) (0.57b0)\n",
            "Requirement already satisfied: backoff>=1.10.0 in /usr/local/lib/python3.12/dist-packages (from posthog<6.0.0,>=2.4.0->chromadb) (2.2.1)\n",
            "Requirement already satisfied: distro>=1.5.0 in /usr/local/lib/python3.12/dist-packages (from posthog<6.0.0,>=2.4.0->chromadb) (1.9.0)\n",
            "Requirement already satisfied: annotated-types>=0.6.0 in /usr/local/lib/python3.12/dist-packages (from pydantic->google-generativeai==0.8.5) (0.7.0)\n",
            "Requirement already satisfied: pydantic-core==2.33.2 in /usr/local/lib/python3.12/dist-packages (from pydantic->google-generativeai==0.8.5) (2.33.2)\n",
            "Requirement already satisfied: typing-inspection>=0.4.0 in /usr/local/lib/python3.12/dist-packages (from pydantic->google-generativeai==0.8.5) (0.4.1)\n",
            "Requirement already satisfied: python-dotenv>=0.21.0 in /usr/local/lib/python3.12/dist-packages (from pydantic-settings<3.0.0,>=2.4.0->langchain-community) (1.1.1)\n",
            "Requirement already satisfied: charset_normalizer<4,>=2 in /usr/local/lib/python3.12/dist-packages (from requests<3,>=2->langchain) (3.4.3)\n",
            "Requirement already satisfied: markdown-it-py>=2.2.0 in /usr/local/lib/python3.12/dist-packages (from rich>=10.11.0->chromadb) (4.0.0)\n",
            "Requirement already satisfied: pygments<3.0.0,>=2.13.0 in /usr/local/lib/python3.12/dist-packages (from rich>=10.11.0->chromadb) (2.19.2)\n",
            "Requirement already satisfied: greenlet>=1 in /usr/local/lib/python3.12/dist-packages (from SQLAlchemy<3,>=1.4->langchain) (3.2.4)\n",
            "Requirement already satisfied: huggingface-hub<1.0,>=0.16.4 in /usr/local/lib/python3.12/dist-packages (from tokenizers>=0.13.2->chromadb) (0.34.4)\n",
            "Requirement already satisfied: click>=8.0.0 in /usr/local/lib/python3.12/dist-packages (from typer>=0.9.0->chromadb) (8.2.1)\n",
            "Requirement already satisfied: shellingham>=1.3.0 in /usr/local/lib/python3.12/dist-packages (from typer>=0.9.0->chromadb) (1.5.4)\n",
            "Requirement already satisfied: httptools>=0.6.3 in /usr/local/lib/python3.12/dist-packages (from uvicorn[standard]>=0.18.3->chromadb) (0.6.4)\n",
            "Requirement already satisfied: uvloop>=0.15.1 in /usr/local/lib/python3.12/dist-packages (from uvicorn[standard]>=0.18.3->chromadb) (0.21.0)\n",
            "Requirement already satisfied: watchfiles>=0.13 in /usr/local/lib/python3.12/dist-packages (from uvicorn[standard]>=0.18.3->chromadb) (1.1.0)\n",
            "Requirement already satisfied: websockets>=10.4 in /usr/local/lib/python3.12/dist-packages (from uvicorn[standard]>=0.18.3->chromadb) (15.0.1)\n",
            "Requirement already satisfied: soupsieve>1.2 in /usr/local/lib/python3.12/dist-packages (from beautifulsoup4->wikipedia) (2.7)\n",
            "Requirement already satisfied: httplib2<1.0.0,>=0.19.0 in /usr/local/lib/python3.12/dist-packages (from google-api-python-client->google-generativeai==0.8.5) (0.22.0)\n",
            "Requirement already satisfied: google-auth-httplib2<1.0.0,>=0.2.0 in /usr/local/lib/python3.12/dist-packages (from google-api-python-client->google-generativeai==0.8.5) (0.2.0)\n",
            "Requirement already satisfied: uritemplate<5,>=3.0.1 in /usr/local/lib/python3.12/dist-packages (from google-api-python-client->google-generativeai==0.8.5) (4.2.0)\n",
            "Requirement already satisfied: pyparsing!=3.0.0,!=3.0.1,!=3.0.2,!=3.0.3,<4,>=2.4.2 in /usr/local/lib/python3.12/dist-packages (from httplib2<1.0.0,>=0.19.0->google-api-python-client->google-generativeai==0.8.5) (3.2.3)\n",
            "Requirement already satisfied: filelock in /usr/local/lib/python3.12/dist-packages (from huggingface-hub<1.0,>=0.16.4->tokenizers>=0.13.2->chromadb) (3.19.1)\n",
            "Requirement already satisfied: fsspec>=2023.5.0 in /usr/local/lib/python3.12/dist-packages (from huggingface-hub<1.0,>=0.16.4->tokenizers>=0.13.2->chromadb) (2025.3.0)\n",
            "Requirement already satisfied: hf-xet<2.0.0,>=1.1.3 in /usr/local/lib/python3.12/dist-packages (from huggingface-hub<1.0,>=0.16.4->tokenizers>=0.13.2->chromadb) (1.1.7)\n",
            "Requirement already satisfied: zipp>=3.20 in /usr/local/lib/python3.12/dist-packages (from importlib-metadata<8.8.0,>=6.0->opentelemetry-api>=1.2.0->chromadb) (3.23.0)\n",
            "Requirement already satisfied: jsonpointer>=1.9 in /usr/local/lib/python3.12/dist-packages (from jsonpatch<2.0,>=1.33->langchain-core<1.0.0,>=0.3.72->langchain) (3.0.0)\n",
            "Requirement already satisfied: mdurl~=0.1 in /usr/local/lib/python3.12/dist-packages (from markdown-it-py>=2.2.0->rich>=10.11.0->chromadb) (0.1.2)\n",
            "Requirement already satisfied: pyasn1<0.7.0,>=0.6.1 in /usr/local/lib/python3.12/dist-packages (from pyasn1-modules>=0.2.1->google-auth>=2.15.0->google-generativeai==0.8.5) (0.6.1)\n",
            "Requirement already satisfied: mypy-extensions>=0.3.0 in /usr/local/lib/python3.12/dist-packages (from typing-inspect<1,>=0.4.0->dataclasses-json<0.7,>=0.5.7->langchain-community) (1.1.0)\n",
            "Requirement already satisfied: sniffio>=1.1 in /usr/local/lib/python3.12/dist-packages (from anyio->httpx>=0.27.0->chromadb) (1.3.1)\n",
            "Requirement already satisfied: humanfriendly>=9.1 in /usr/local/lib/python3.12/dist-packages (from coloredlogs->onnxruntime>=1.14.1->chromadb) (10.0)\n",
            "Requirement already satisfied: mpmath<1.4,>=1.1.0 in /usr/local/lib/python3.12/dist-packages (from sympy->onnxruntime>=1.14.1->chromadb) (1.3.0)\n"
          ]
        }
      ]
    },
    {
      "cell_type": "markdown",
      "source": [
        "**Wikipedia Retriever**"
      ],
      "metadata": {
        "id": "jNC0gIiXewns"
      }
    },
    {
      "cell_type": "code",
      "source": [
        "#Import library\n",
        "from langchain_community.retrievers import WikipediaRetriever"
      ],
      "metadata": {
        "id": "gGWZYs8ce1ce"
      },
      "execution_count": 3,
      "outputs": []
    },
    {
      "cell_type": "code",
      "source": [
        "# Initialize the retriever (optional: set language and top_k)\n",
        "retriever = WikipediaRetriever(language=\"en\", top_k=2)"
      ],
      "metadata": {
        "id": "KtKtWgApfCU5"
      },
      "execution_count": 4,
      "outputs": []
    },
    {
      "cell_type": "code",
      "source": [
        "#Define query\n",
        "query = \"What is the living expense in Mumbai from middle class perspective?\"\n",
        "\n",
        "# Get relevant Wikipedia documents\n",
        "doc = retriever.invoke(query)"
      ],
      "metadata": {
        "id": "_nz5K87efdSi"
      },
      "execution_count": 5,
      "outputs": []
    },
    {
      "cell_type": "code",
      "source": [
        "doc"
      ],
      "metadata": {
        "colab": {
          "base_uri": "https://localhost:8080/"
        },
        "id": "vjdBdiZfgqz2",
        "outputId": "d14f5fe5-1393-43a7-cf50-cab4e4ed352b"
      },
      "execution_count": 6,
      "outputs": [
        {
          "output_type": "execute_result",
          "data": {
            "text/plain": [
              "[Document(metadata={'title': 'Bhopal disaster', 'summary': \"On 3 December 1984, over 500,000 people in the vicinity of the Union Carbide India Limited pesticide plant in Bhopal, Madhya Pradesh, India were exposed to the highly toxic gas methyl isocyanate, in what is considered the world's worst industrial disaster. A government affidavit in 2006 stated that the leak caused approximately 558,125 injuries, including 38,478 temporary partial injuries and 3,900 severely and permanently disabling injuries. Estimates vary on the death toll, with the official number of immediate deaths being 2,259. Others estimate that 8,000 died within two weeks of the incident occurring, and another 8,000 or more died from gas-related diseases. In 2008, the Government of Madhya Pradesh paid compensation to the family members of victims killed in the gas release, and to the injured victims.\\nThe owner of the factory, Union Carbide India Limited (UCIL), was majority-owned by the Union Carbide Corporation (UCC) of the United States, with Indian government-controlled banks and the Indian public holding a 49.1 percent stake. In 1989, UCC paid $470 million (equivalent to $1.01 billion in 2023) to settle litigation stemming from the disaster. In 1994, UCC sold its stake in UCIL to Eveready Industries India Limited (EIIL), which subsequently merged with McLeod Russel (India) Ltd. Eveready ended clean-up on the site in 1998, when it terminated its 99-year lease and turned over control of the site to the state government of Madhya Pradesh. Dow Chemical Company purchased UCC in 2001, seventeen years after the disaster.\\nCivil and criminal cases filed in the United States against UCC and Warren Anderson, chief executive officer of the UCC at the time of the disaster, were dismissed and redirected to Indian courts on multiple occasions between 1986 and 2012, as the US courts focused on UCIL being a standalone entity of India. Civil and criminal cases were also filed in the District Court of Bhopal, India, involving UCC, UCIL, and Anderson. In June 2010, seven Indian nationals who were UCIL employees in 1984, including the former UCIL chairman Keshub Mahindra, were convicted in Bhopal of causing death by negligence and sentenced to two years' imprisonment and a fine of about $2,000 each, the maximum punishment allowed by Indian law. All were released on bail shortly after the verdict. An eighth former employee was also convicted, but died before the judgement was passed.\", 'source': 'https://en.wikipedia.org/wiki/Bhopal_disaster'}, page_content=\"On 3 December 1984, over 500,000 people in the vicinity of the Union Carbide India Limited pesticide plant in Bhopal, Madhya Pradesh, India were exposed to the highly toxic gas methyl isocyanate, in what is considered the world's worst industrial disaster. A government affidavit in 2006 stated that the leak caused approximately 558,125 injuries, including 38,478 temporary partial injuries and 3,900 severely and permanently disabling injuries. Estimates vary on the death toll, with the official number of immediate deaths being 2,259. Others estimate that 8,000 died within two weeks of the incident occurring, and another 8,000 or more died from gas-related diseases. In 2008, the Government of Madhya Pradesh paid compensation to the family members of victims killed in the gas release, and to the injured victims.\\nThe owner of the factory, Union Carbide India Limited (UCIL), was majority-owned by the Union Carbide Corporation (UCC) of the United States, with Indian government-controlled banks and the Indian public holding a 49.1 percent stake. In 1989, UCC paid $470 million (equivalent to $1.01 billion in 2023) to settle litigation stemming from the disaster. In 1994, UCC sold its stake in UCIL to Eveready Industries India Limited (EIIL), which subsequently merged with McLeod Russel (India) Ltd. Eveready ended clean-up on the site in 1998, when it terminated its 99-year lease and turned over control of the site to the state government of Madhya Pradesh. Dow Chemical Company purchased UCC in 2001, seventeen years after the disaster.\\nCivil and criminal cases filed in the United States against UCC and Warren Anderson, chief executive officer of the UCC at the time of the disaster, were dismissed and redirected to Indian courts on multiple occasions between 1986 and 2012, as the US courts focused on UCIL being a standalone entity of India. Civil and criminal cases were also filed in the District Court of Bhopal, India, involving UCC, UCIL, and Anderson. In June 2010, seven Indian nationals who were UCIL employees in 1984, including the former UCIL chairman Keshub Mahindra, were convicted in Bhopal of causing death by negligence and sentenced to two years' imprisonment and a fine of about $2,000 each, the maximum punishment allowed by Indian law. All were released on bail shortly after the verdict. An eighth former employee was also convicted, but died before the judgement was passed.\\n\\n\\n== Background ==\\n\\nThe UCIL factory was built in 1969 to produce the pesticide Sevin (UCC's brand name for carbaryl) using methyl isocyanate (MIC) as an intermediate. An MIC production plant was added to the UCIL site in 1979. The chemical process employed in the Bhopal plant had methylamine reacting with phosgene to form MIC, which was in turn reacted with 1-naphthol to form the final product, carbaryl. Another manufacturer, Bayer, also used this MIC-intermediate process at the chemical plant once owned by UCC at Institute, West Virginia in the United States.\\nAfter the Bhopal plant was built, other manufacturers (including Bayer) produced carbaryl without MIC, though at a greater manufacturing cost. UCIL's process differed from the MIC-free routes used elsewhere, in which the same raw materials were combined in a different manufacturing order, with phosgene initially reacting with 1-naphthol to form a chloroformate ester, which was later reacted with methylamine. In the early 1980s, although the demand for pesticides had fallen, production continued leading to an accumulation of unused MIC at the Bhopal site.\\n\\n\\n=== Earlier leaks ===\\nIn 1976, two local trade unions complained of pollution within the plant. In 1981, a worker was accidentally splashed with phosgene as he was carrying out a maintenance job of the plant's pipes. In a panic, he removed his gas mask and inhaled a large amount of toxic phosgene gas, leading to his death 72 hours later. Following these events, journalist Rajkumar Keswani began investigating and published his findings in Bhopal's \"),\n",
              " Document(metadata={'title': 'Developing country', 'summary': 'A developing country is a sovereign state with a less-developed industrial base and a lower Human Development Index (HDI) relative to developed countries. However, this definition is not universally agreed upon. There is also no clear agreement on which countries fit this category. The terms low-and middle-income country (LMIC) and newly emerging economy (NEE) are often used interchangeably but they refer only to the economy of the countries. The World Bank classifies the world\\'s economies into four groups, based on gross national income per capita: high-, upper-middle-, lower-middle-, and low-income countries. Least developed countries, landlocked developing countries, and small island developing states are all sub-groupings of developing countries. Countries on the other end of the spectrum are usually referred to as high-income countries or developed countries.\\nThere are controversies over the terms\\' use, as some feel that it perpetuates an outdated concept of \"us\" and \"them\". In 2015, the World Bank declared that the \"developing/developed world categorization\" had become less relevant and that they would phase out the use of that descriptor. Instead, their reports will present data aggregations for regions and income groups. The term \"Global South\" is used by some as an alternative term to developing countries.\\nDeveloping countries tend to have some characteristics in common, often due to their histories or geographies. For example, they commonly have lower levels of access to safe drinking water, sanitation and hygiene, energy poverty, higher levels of pollution (e.g. , air pollution, littering, water pollution, open defecation); higher proportions of people with tropical and infectious diseases (neglected tropical diseases); more road traffic accidents; and generally poorer quality infrastructure.\\nIn addition, there are also often high unemployment rates, widespread poverty, widespread hunger, extreme poverty, child labour, malnutrition, homelessness, substance abuse, prostitution, overpopulation, civil disorder, human capital flight, a large informal economy, high crime rates (extortion, robbery, burglary, murder, homicide, arms trafficking, sex trafficking, drug trafficking, kidnapping, rape), low education levels, economic inequality, school desertion, inadequate access to family planning services, teenage pregnancy, many informal settlements and slums, corruption at all government levels, and political instability. Unlike developed countries, developing countries lack the rule of law.\\nAccess to healthcare is often low. People in developing countries usually have lower life expectancies than people in developed countries, reflecting both lower income levels and poorer public health. The burden of infectious diseases, maternal mortality, child mortality and infant mortality are typically substantially higher in those countries. The effects of climate change are expected to affect developing countries more than high-income countries, as most of them have a high climate vulnerability or low climate resilience. Phrases such as \"resource-limited setting\" or \"low-resource setting\" are often used when referring to healthcare in developing countries.\\nDeveloping countries often have lower median ages than developed countries. Population aging is a global phenomenon, but population age has risen more slowly in developing countries.\\nDevelopment aid or development cooperation is financial aid given by foreign governments and other agencies to support developing countries\\' economic, environmental, social, and political development. If the Sustainable Development Goals which were set up by United Nations for the year 2030 are achieved, they would overcome many problems.', 'source': 'https://en.wikipedia.org/wiki/Developing_country'}, page_content='A developing country is a sovereign state with a less-developed industrial base and a lower Human Development Index (HDI) relative to developed countries. However, this definition is not universally agreed upon. There is also no clear agreement on which countries fit this category. The terms low-and middle-income country (LMIC) and newly emerging economy (NEE) are often used interchangeably but they refer only to the economy of the countries. The World Bank classifies the world\\'s economies into four groups, based on gross national income per capita: high-, upper-middle-, lower-middle-, and low-income countries. Least developed countries, landlocked developing countries, and small island developing states are all sub-groupings of developing countries. Countries on the other end of the spectrum are usually referred to as high-income countries or developed countries.\\nThere are controversies over the terms\\' use, as some feel that it perpetuates an outdated concept of \"us\" and \"them\". In 2015, the World Bank declared that the \"developing/developed world categorization\" had become less relevant and that they would phase out the use of that descriptor. Instead, their reports will present data aggregations for regions and income groups. The term \"Global South\" is used by some as an alternative term to developing countries.\\nDeveloping countries tend to have some characteristics in common, often due to their histories or geographies. For example, they commonly have lower levels of access to safe drinking water, sanitation and hygiene, energy poverty, higher levels of pollution (e.g. , air pollution, littering, water pollution, open defecation); higher proportions of people with tropical and infectious diseases (neglected tropical diseases); more road traffic accidents; and generally poorer quality infrastructure.\\nIn addition, there are also often high unemployment rates, widespread poverty, widespread hunger, extreme poverty, child labour, malnutrition, homelessness, substance abuse, prostitution, overpopulation, civil disorder, human capital flight, a large informal economy, high crime rates (extortion, robbery, burglary, murder, homicide, arms trafficking, sex trafficking, drug trafficking, kidnapping, rape), low education levels, economic inequality, school desertion, inadequate access to family planning services, teenage pregnancy, many informal settlements and slums, corruption at all government levels, and political instability. Unlike developed countries, developing countries lack the rule of law.\\nAccess to healthcare is often low. People in developing countries usually have lower life expectancies than people in developed countries, reflecting both lower income levels and poorer public health. The burden of infectious diseases, maternal mortality, child mortality and infant mortality are typically substantially higher in those countries. The effects of climate change are expected to affect developing countries more than high-income countries, as most of them have a high climate vulnerability or low climate resilience. Phrases such as \"resource-limited setting\" or \"low-resource setting\" are often used when referring to healthcare in developing countries.\\nDeveloping countries often have lower median ages than developed countries. Population aging is a global phenomenon, but population age has risen more slowly in developing countries.\\nDevelopment aid or development cooperation is financial aid given by foreign governments and other agencies to support developing countries\\' economic, environmental, social, and political development. If the Sustainable Development Goals which were set up by United Nations for the year 2030 are achieved, they would overcome many problems.\\n\\n\\n== Terms used to classify countries ==\\nThere are several terms used to classify countries into rough levels of development. Classification of any given country differs across sources, and sometimes, these classifications or the specific terminology used is conside'),\n",
              " Document(metadata={'title': 'Bengal famine of 1943', 'summary': 'The Bengal famine of 1943 was a famine during World War II in the Bengal Presidency of British India, in present-day Bangladesh and also the Indian state of West Bengal. An estimated 800,000–3.8 million people died, in the Bengal region (present-day Bangladesh and West Bengal), from starvation, malaria and other diseases aggravated by malnutrition, population displacement, unsanitary conditions, poor British wartime policies and lack of health care. Millions were impoverished as the crisis overwhelmed large segments of the economy and catastrophically disrupted the social fabric. Eventually, families disintegrated; men sold their small farms and left home to look for work or to join the British Indian Army, and women and children became homeless migrants, often travelling to Calcutta or other large cities in search of organised relief.\\nBengal\\'s economy had been predominantly agrarian at that time, with between half and three-quarters of the rural poor subsisting in a \"semi-starved condition\". Stagnant agricultural productivity and a stable land base were unable to cope with a rapidly increasing population, resulting in both long-term decline in per capita availability of rice and growing numbers of the land-poor and landless labourers. A high proportion laboured beneath a chronic and spiralling cycle of debt that ended in debt bondage and the loss of their landholdings due to land grabbing.\\nThe financing of military escalation led to wartime inflation. Many workers received monetary wages rather than payment in kind with a portion of the harvest. When prices rose sharply, their wages failed to follow suit; this drop in real wages left them less able to purchase food. During the Japanese occupation of Burma, many rice imports were lost as the region\\'s market supplies and transport systems were disrupted by British \"denial policies\" for rice and boats (by some critiques considered a \"scorched earth\" response to the occupation). The British also implemented inflation policies during the war aimed at making more resources available for Allied troops. These policies, along with other economic measures, created the \"forced transferences of purchasing power\" to the military from ordinary people, reducing their food consumption. The Bengal Chamber of Commerce (composed mainly of British-owned firms), with the approval of the Government of Bengal, devised a Foodstuffs Scheme to provide preferential distribution of goods and services to workers in high-priority roles such as armed forces, war industries, civil servants and other \"priority classes\", to prevent them from leaving their positions. These factors were compounded by restricted access to grain: domestic sources were constrained by emergency inter-provincial trade barriers, while aid from Churchill\\'s war cabinet was limited, ostensibly due to a wartime shortage of shipping. More proximate causes included large-scale natural disasters in south-western Bengal (a cyclone, tidal waves and flooding, and rice crop disease). The relative impact of each of these factors on the death toll is a matter of debate.\\nThe provincial government never formally declared a state of famine, and its humanitarian aid was ineffective through the worst months of the crisis. It attempted to fix the price of rice paddy through price controls which resulted in a black market which encouraged sellers to withhold stocks, leading to hyperinflation from speculation and hoarding after controls were abandoned. Aid increased significantly when the British Indian Army took control of funding in October 1943, but effective relief arrived after a record rice harvest that December. Deaths from starvation declined, yet over half the famine-related deaths occurred in 1944 after the food security crisis had abated, as a result of disease. British Prime Minister Winston Churchill has been criticised for his role in the famine, with critics arguing that his war priorities and the refusal to divert food supplies to Bengal significantly worsened the situation.', 'source': 'https://en.wikipedia.org/wiki/Bengal_famine_of_1943'}, page_content='The Bengal famine of 1943 was a famine during World War II in the Bengal Presidency of British India, in present-day Bangladesh and also the Indian state of West Bengal. An estimated 800,000–3.8 million people died, in the Bengal region (present-day Bangladesh and West Bengal), from starvation, malaria and other diseases aggravated by malnutrition, population displacement, unsanitary conditions, poor British wartime policies and lack of health care. Millions were impoverished as the crisis overwhelmed large segments of the economy and catastrophically disrupted the social fabric. Eventually, families disintegrated; men sold their small farms and left home to look for work or to join the British Indian Army, and women and children became homeless migrants, often travelling to Calcutta or other large cities in search of organised relief.\\nBengal\\'s economy had been predominantly agrarian at that time, with between half and three-quarters of the rural poor subsisting in a \"semi-starved condition\". Stagnant agricultural productivity and a stable land base were unable to cope with a rapidly increasing population, resulting in both long-term decline in per capita availability of rice and growing numbers of the land-poor and landless labourers. A high proportion laboured beneath a chronic and spiralling cycle of debt that ended in debt bondage and the loss of their landholdings due to land grabbing.\\nThe financing of military escalation led to wartime inflation. Many workers received monetary wages rather than payment in kind with a portion of the harvest. When prices rose sharply, their wages failed to follow suit; this drop in real wages left them less able to purchase food. During the Japanese occupation of Burma, many rice imports were lost as the region\\'s market supplies and transport systems were disrupted by British \"denial policies\" for rice and boats (by some critiques considered a \"scorched earth\" response to the occupation). The British also implemented inflation policies during the war aimed at making more resources available for Allied troops. These policies, along with other economic measures, created the \"forced transferences of purchasing power\" to the military from ordinary people, reducing their food consumption. The Bengal Chamber of Commerce (composed mainly of British-owned firms), with the approval of the Government of Bengal, devised a Foodstuffs Scheme to provide preferential distribution of goods and services to workers in high-priority roles such as armed forces, war industries, civil servants and other \"priority classes\", to prevent them from leaving their positions. These factors were compounded by restricted access to grain: domestic sources were constrained by emergency inter-provincial trade barriers, while aid from Churchill\\'s war cabinet was limited, ostensibly due to a wartime shortage of shipping. More proximate causes included large-scale natural disasters in south-western Bengal (a cyclone, tidal waves and flooding, and rice crop disease). The relative impact of each of these factors on the death toll is a matter of debate.\\nThe provincial government never formally declared a state of famine, and its humanitarian aid was ineffective through the worst months of the crisis. It attempted to fix the price of rice paddy through price controls which resulted in a black market which encouraged sellers to withhold stocks, leading to hyperinflation from speculation and hoarding after controls were abandoned. Aid increased significantly when the British Indian Army took control of funding in October 1943, but effective relief arrived after a record rice harvest that December. Deaths from starvation declined, yet over half the famine-related deaths occurred in 1944 after the food security crisis had abated, as a result of disease. British Prime Minister Winston Churchill has been criticised for his role in the famine, with critics arguing that his war priorities and the refusal to divert food supplies to Bengal ')]"
            ]
          },
          "metadata": {},
          "execution_count": 6
        }
      ]
    },
    {
      "cell_type": "code",
      "source": [
        "#Print retrieved content\n",
        "for i, j in enumerate(doc):\n",
        "  print(f\"\\n--->Results {i+1}<---\")\n",
        "  print(f\"Content:\\n{j.page_content}\")\n"
      ],
      "metadata": {
        "colab": {
          "base_uri": "https://localhost:8080/"
        },
        "id": "DGAB0EJphJGM",
        "outputId": "ae30d79f-7a77-48ab-d21f-a4089f920676"
      },
      "execution_count": 7,
      "outputs": [
        {
          "output_type": "stream",
          "name": "stdout",
          "text": [
            "\n",
            "--->Results 1<---\n",
            "Content:\n",
            "On 3 December 1984, over 500,000 people in the vicinity of the Union Carbide India Limited pesticide plant in Bhopal, Madhya Pradesh, India were exposed to the highly toxic gas methyl isocyanate, in what is considered the world's worst industrial disaster. A government affidavit in 2006 stated that the leak caused approximately 558,125 injuries, including 38,478 temporary partial injuries and 3,900 severely and permanently disabling injuries. Estimates vary on the death toll, with the official number of immediate deaths being 2,259. Others estimate that 8,000 died within two weeks of the incident occurring, and another 8,000 or more died from gas-related diseases. In 2008, the Government of Madhya Pradesh paid compensation to the family members of victims killed in the gas release, and to the injured victims.\n",
            "The owner of the factory, Union Carbide India Limited (UCIL), was majority-owned by the Union Carbide Corporation (UCC) of the United States, with Indian government-controlled banks and the Indian public holding a 49.1 percent stake. In 1989, UCC paid $470 million (equivalent to $1.01 billion in 2023) to settle litigation stemming from the disaster. In 1994, UCC sold its stake in UCIL to Eveready Industries India Limited (EIIL), which subsequently merged with McLeod Russel (India) Ltd. Eveready ended clean-up on the site in 1998, when it terminated its 99-year lease and turned over control of the site to the state government of Madhya Pradesh. Dow Chemical Company purchased UCC in 2001, seventeen years after the disaster.\n",
            "Civil and criminal cases filed in the United States against UCC and Warren Anderson, chief executive officer of the UCC at the time of the disaster, were dismissed and redirected to Indian courts on multiple occasions between 1986 and 2012, as the US courts focused on UCIL being a standalone entity of India. Civil and criminal cases were also filed in the District Court of Bhopal, India, involving UCC, UCIL, and Anderson. In June 2010, seven Indian nationals who were UCIL employees in 1984, including the former UCIL chairman Keshub Mahindra, were convicted in Bhopal of causing death by negligence and sentenced to two years' imprisonment and a fine of about $2,000 each, the maximum punishment allowed by Indian law. All were released on bail shortly after the verdict. An eighth former employee was also convicted, but died before the judgement was passed.\n",
            "\n",
            "\n",
            "== Background ==\n",
            "\n",
            "The UCIL factory was built in 1969 to produce the pesticide Sevin (UCC's brand name for carbaryl) using methyl isocyanate (MIC) as an intermediate. An MIC production plant was added to the UCIL site in 1979. The chemical process employed in the Bhopal plant had methylamine reacting with phosgene to form MIC, which was in turn reacted with 1-naphthol to form the final product, carbaryl. Another manufacturer, Bayer, also used this MIC-intermediate process at the chemical plant once owned by UCC at Institute, West Virginia in the United States.\n",
            "After the Bhopal plant was built, other manufacturers (including Bayer) produced carbaryl without MIC, though at a greater manufacturing cost. UCIL's process differed from the MIC-free routes used elsewhere, in which the same raw materials were combined in a different manufacturing order, with phosgene initially reacting with 1-naphthol to form a chloroformate ester, which was later reacted with methylamine. In the early 1980s, although the demand for pesticides had fallen, production continued leading to an accumulation of unused MIC at the Bhopal site.\n",
            "\n",
            "\n",
            "=== Earlier leaks ===\n",
            "In 1976, two local trade unions complained of pollution within the plant. In 1981, a worker was accidentally splashed with phosgene as he was carrying out a maintenance job of the plant's pipes. In a panic, he removed his gas mask and inhaled a large amount of toxic phosgene gas, leading to his death 72 hours later. Following these events, journalist Rajkumar Keswani began investigating and published his findings in Bhopal's \n",
            "\n",
            "--->Results 2<---\n",
            "Content:\n",
            "A developing country is a sovereign state with a less-developed industrial base and a lower Human Development Index (HDI) relative to developed countries. However, this definition is not universally agreed upon. There is also no clear agreement on which countries fit this category. The terms low-and middle-income country (LMIC) and newly emerging economy (NEE) are often used interchangeably but they refer only to the economy of the countries. The World Bank classifies the world's economies into four groups, based on gross national income per capita: high-, upper-middle-, lower-middle-, and low-income countries. Least developed countries, landlocked developing countries, and small island developing states are all sub-groupings of developing countries. Countries on the other end of the spectrum are usually referred to as high-income countries or developed countries.\n",
            "There are controversies over the terms' use, as some feel that it perpetuates an outdated concept of \"us\" and \"them\". In 2015, the World Bank declared that the \"developing/developed world categorization\" had become less relevant and that they would phase out the use of that descriptor. Instead, their reports will present data aggregations for regions and income groups. The term \"Global South\" is used by some as an alternative term to developing countries.\n",
            "Developing countries tend to have some characteristics in common, often due to their histories or geographies. For example, they commonly have lower levels of access to safe drinking water, sanitation and hygiene, energy poverty, higher levels of pollution (e.g. , air pollution, littering, water pollution, open defecation); higher proportions of people with tropical and infectious diseases (neglected tropical diseases); more road traffic accidents; and generally poorer quality infrastructure.\n",
            "In addition, there are also often high unemployment rates, widespread poverty, widespread hunger, extreme poverty, child labour, malnutrition, homelessness, substance abuse, prostitution, overpopulation, civil disorder, human capital flight, a large informal economy, high crime rates (extortion, robbery, burglary, murder, homicide, arms trafficking, sex trafficking, drug trafficking, kidnapping, rape), low education levels, economic inequality, school desertion, inadequate access to family planning services, teenage pregnancy, many informal settlements and slums, corruption at all government levels, and political instability. Unlike developed countries, developing countries lack the rule of law.\n",
            "Access to healthcare is often low. People in developing countries usually have lower life expectancies than people in developed countries, reflecting both lower income levels and poorer public health. The burden of infectious diseases, maternal mortality, child mortality and infant mortality are typically substantially higher in those countries. The effects of climate change are expected to affect developing countries more than high-income countries, as most of them have a high climate vulnerability or low climate resilience. Phrases such as \"resource-limited setting\" or \"low-resource setting\" are often used when referring to healthcare in developing countries.\n",
            "Developing countries often have lower median ages than developed countries. Population aging is a global phenomenon, but population age has risen more slowly in developing countries.\n",
            "Development aid or development cooperation is financial aid given by foreign governments and other agencies to support developing countries' economic, environmental, social, and political development. If the Sustainable Development Goals which were set up by United Nations for the year 2030 are achieved, they would overcome many problems.\n",
            "\n",
            "\n",
            "== Terms used to classify countries ==\n",
            "There are several terms used to classify countries into rough levels of development. Classification of any given country differs across sources, and sometimes, these classifications or the specific terminology used is conside\n",
            "\n",
            "--->Results 3<---\n",
            "Content:\n",
            "The Bengal famine of 1943 was a famine during World War II in the Bengal Presidency of British India, in present-day Bangladesh and also the Indian state of West Bengal. An estimated 800,000–3.8 million people died, in the Bengal region (present-day Bangladesh and West Bengal), from starvation, malaria and other diseases aggravated by malnutrition, population displacement, unsanitary conditions, poor British wartime policies and lack of health care. Millions were impoverished as the crisis overwhelmed large segments of the economy and catastrophically disrupted the social fabric. Eventually, families disintegrated; men sold their small farms and left home to look for work or to join the British Indian Army, and women and children became homeless migrants, often travelling to Calcutta or other large cities in search of organised relief.\n",
            "Bengal's economy had been predominantly agrarian at that time, with between half and three-quarters of the rural poor subsisting in a \"semi-starved condition\". Stagnant agricultural productivity and a stable land base were unable to cope with a rapidly increasing population, resulting in both long-term decline in per capita availability of rice and growing numbers of the land-poor and landless labourers. A high proportion laboured beneath a chronic and spiralling cycle of debt that ended in debt bondage and the loss of their landholdings due to land grabbing.\n",
            "The financing of military escalation led to wartime inflation. Many workers received monetary wages rather than payment in kind with a portion of the harvest. When prices rose sharply, their wages failed to follow suit; this drop in real wages left them less able to purchase food. During the Japanese occupation of Burma, many rice imports were lost as the region's market supplies and transport systems were disrupted by British \"denial policies\" for rice and boats (by some critiques considered a \"scorched earth\" response to the occupation). The British also implemented inflation policies during the war aimed at making more resources available for Allied troops. These policies, along with other economic measures, created the \"forced transferences of purchasing power\" to the military from ordinary people, reducing their food consumption. The Bengal Chamber of Commerce (composed mainly of British-owned firms), with the approval of the Government of Bengal, devised a Foodstuffs Scheme to provide preferential distribution of goods and services to workers in high-priority roles such as armed forces, war industries, civil servants and other \"priority classes\", to prevent them from leaving their positions. These factors were compounded by restricted access to grain: domestic sources were constrained by emergency inter-provincial trade barriers, while aid from Churchill's war cabinet was limited, ostensibly due to a wartime shortage of shipping. More proximate causes included large-scale natural disasters in south-western Bengal (a cyclone, tidal waves and flooding, and rice crop disease). The relative impact of each of these factors on the death toll is a matter of debate.\n",
            "The provincial government never formally declared a state of famine, and its humanitarian aid was ineffective through the worst months of the crisis. It attempted to fix the price of rice paddy through price controls which resulted in a black market which encouraged sellers to withhold stocks, leading to hyperinflation from speculation and hoarding after controls were abandoned. Aid increased significantly when the British Indian Army took control of funding in October 1943, but effective relief arrived after a record rice harvest that December. Deaths from starvation declined, yet over half the famine-related deaths occurred in 1944 after the food security crisis had abated, as a result of disease. British Prime Minister Winston Churchill has been criticised for his role in the famine, with critics arguing that his war priorities and the refusal to divert food supplies to Bengal \n"
          ]
        }
      ]
    },
    {
      "cell_type": "markdown",
      "source": [
        "**Vector Store Retriever**"
      ],
      "metadata": {
        "id": "PLRT3AHamstd"
      }
    },
    {
      "cell_type": "code",
      "source": [
        "from langchain_community.vectorstores import Chroma\n",
        "from langchain_google_genai import GoogleGenerativeAIEmbeddings\n",
        "from langchain_core.documents import Document"
      ],
      "metadata": {
        "id": "XBZCH-XYmrft"
      },
      "execution_count": 8,
      "outputs": []
    },
    {
      "cell_type": "code",
      "source": [
        "# Step 1: Your source documents\n",
        "documents = [\n",
        "    Document(page_content=\"LangChain helps developers build LLM applications easily.\"),\n",
        "    Document(page_content=\"Chroma is a vector database optimized for LLM-based search.\"),\n",
        "    Document(page_content=\"Embeddings convert text into high-dimensional vectors.\"),\n",
        "    Document(page_content=\"GoogleGenAI provides powerful embedding models.\"),\n",
        "]"
      ],
      "metadata": {
        "id": "Zxi5_POloOFE"
      },
      "execution_count": 9,
      "outputs": []
    },
    {
      "cell_type": "code",
      "source": [
        "# Step 2: Initialize embedding model\n",
        "embedding_model = GoogleGenerativeAIEmbeddings(model=\"models/embedding-001\")\n",
        "\n",
        "# Step 3: Create Chroma vector store in memory\n",
        "vector_store = Chroma.from_documents(\n",
        "    documents = documents,\n",
        "    embedding = embedding_model,\n",
        "    collection_name= \"my_collection\"\n",
        "    )"
      ],
      "metadata": {
        "id": "uyIRvT3YoYtA"
      },
      "execution_count": 10,
      "outputs": []
    },
    {
      "cell_type": "code",
      "source": [
        "# Step 4: Convert vectorstore into a retriever\n",
        "retriever = vector_store.as_retriever(search_kwargs = {\"k\":2})"
      ],
      "metadata": {
        "id": "nYTr03zHxSpu"
      },
      "execution_count": 11,
      "outputs": []
    },
    {
      "cell_type": "code",
      "source": [
        "query = \"What is Chroma used for?\"\n",
        "results = retriever.invoke(query)"
      ],
      "metadata": {
        "id": "MMHlNKCzyKrk"
      },
      "execution_count": 12,
      "outputs": []
    },
    {
      "cell_type": "code",
      "source": [
        "for i, doc in enumerate(results):\n",
        "  print(f\"\\n--->Results {i+1}<---\")\n",
        "  print(f\"Content:\\n{doc.page_content}\")"
      ],
      "metadata": {
        "colab": {
          "base_uri": "https://localhost:8080/"
        },
        "id": "f0pVuePYyT2n",
        "outputId": "283270f0-4c8e-44b6-e6c5-cf8d8ed306e8"
      },
      "execution_count": 13,
      "outputs": [
        {
          "output_type": "stream",
          "name": "stdout",
          "text": [
            "\n",
            "--->Results 1<---\n",
            "Content:\n",
            "Chroma is a vector database optimized for LLM-based search.\n",
            "\n",
            "--->Results 2<---\n",
            "Content:\n",
            "Embeddings convert text into high-dimensional vectors.\n"
          ]
        }
      ]
    },
    {
      "cell_type": "markdown",
      "source": [
        "**Maximal Marginal Relevance (MMR)**"
      ],
      "metadata": {
        "id": "4JVfIDwv109T"
      }
    },
    {
      "cell_type": "code",
      "source": [
        "# Sample documents\n",
        "docs = [\n",
        "    Document(page_content=\"LangChain makes it easy to work with LLMs.\"),\n",
        "    Document(page_content=\"LangChain is used to build LLM based applications.\"),\n",
        "    Document(page_content=\"Chroma is used to store and search document embeddings.\"),\n",
        "    Document(page_content=\"Embeddings are vector representations of text.\"),\n",
        "    Document(page_content=\"MMR helps you get diverse results when doing similarity search.\"),\n",
        "    Document(page_content=\"LangChain supports Chroma, FAISS, Pinecone, and more.\"),\n",
        "]"
      ],
      "metadata": {
        "id": "EQz0jiGA1hwh"
      },
      "execution_count": 14,
      "outputs": []
    },
    {
      "cell_type": "code",
      "source": [
        "from langchain_community.vectorstores import FAISS\n",
        "\n",
        "embedding_model = GoogleGenerativeAIEmbeddings(model=\"models/embedding-001\")\n",
        "\n",
        "vector_store = FAISS.from_documents(\n",
        "    documents = docs,\n",
        "    embedding = embedding_model\n",
        ")"
      ],
      "metadata": {
        "id": "S9C74jKQ4EMc"
      },
      "execution_count": 15,
      "outputs": []
    },
    {
      "cell_type": "code",
      "source": [
        "retriever = vector_store.as_retriever(\n",
        "    search_type=\"mmr\", # <-- This enables MMR\n",
        "    search_kwargs={\"k\": 3, \"lambda_mult\": 0.5}) # k = no. of top results, lambda_mult = relevance-diversity balance"
      ],
      "metadata": {
        "id": "j6KNgImE4sqI"
      },
      "execution_count": 16,
      "outputs": []
    },
    {
      "cell_type": "code",
      "source": [
        "query = \"what is langchain?\"\n",
        "results = retriever.invoke(query)"
      ],
      "metadata": {
        "id": "wAqkxe3-5ZxA"
      },
      "execution_count": 17,
      "outputs": []
    },
    {
      "cell_type": "code",
      "source": [
        "for i, doc in enumerate(results):\n",
        "  print(f\"\\n--->Results {i+1}<---\")\n",
        "  print(f\"Content:\\n{doc.page_content}\")"
      ],
      "metadata": {
        "colab": {
          "base_uri": "https://localhost:8080/"
        },
        "id": "5BzlP3Eh5fnl",
        "outputId": "124b7fc6-7e24-43d5-8212-f20a25260c65"
      },
      "execution_count": 18,
      "outputs": [
        {
          "output_type": "stream",
          "name": "stdout",
          "text": [
            "\n",
            "--->Results 1<---\n",
            "Content:\n",
            "LangChain is used to build LLM based applications.\n",
            "\n",
            "--->Results 2<---\n",
            "Content:\n",
            "Embeddings are vector representations of text.\n",
            "\n",
            "--->Results 3<---\n",
            "Content:\n",
            "LangChain supports Chroma, FAISS, Pinecone, and more.\n"
          ]
        }
      ]
    },
    {
      "cell_type": "markdown",
      "source": [
        "**Multiquery Retriever**"
      ],
      "metadata": {
        "id": "sYWSsumtCwVe"
      }
    },
    {
      "cell_type": "code",
      "source": [
        "from langchain_community.vectorstores import FAISS\n",
        "from langchain_google_genai import ChatGoogleGenerativeAI\n",
        "from langchain_google_genai import GoogleGenerativeAIEmbeddings\n",
        "from langchain_core.documents import Document\n",
        "from langchain.retrievers.multi_query import MultiQueryRetriever"
      ],
      "metadata": {
        "id": "fHuEhUNf5hMP"
      },
      "execution_count": 19,
      "outputs": []
    },
    {
      "cell_type": "code",
      "source": [
        "# Relevant health & wellness documents\n",
        "all_docs = [\n",
        "    Document(page_content=\"Regular walking boosts heart health and can reduce symptoms of depression.\", metadata={\"source\": \"H1\"}),\n",
        "    Document(page_content=\"Consuming leafy greens and fruits helps detox the body and improve longevity.\", metadata={\"source\": \"H2\"}),\n",
        "    Document(page_content=\"Deep sleep is crucial for cellular repair and emotional regulation.\", metadata={\"source\": \"H3\"}),\n",
        "    Document(page_content=\"Mindfulness and controlled breathing lower cortisol and improve mental clarity.\", metadata={\"source\": \"H4\"}),\n",
        "    Document(page_content=\"Drinking sufficient water throughout the day helps maintain metabolism and energy.\", metadata={\"source\": \"H5\"}),\n",
        "    Document(page_content=\"The solar energy system in modern homes helps balance electricity demand.\", metadata={\"source\": \"I1\"}),\n",
        "    Document(page_content=\"Python balances readability with power, making it a popular system design language.\", metadata={\"source\": \"I2\"}),\n",
        "    Document(page_content=\"Photosynthesis enables plants to produce energy by converting sunlight.\", metadata={\"source\": \"I3\"}),\n",
        "    Document(page_content=\"The 2022 FIFA World Cup was held in Qatar and drew global energy and excitement.\", metadata={\"source\": \"I4\"}),\n",
        "    Document(page_content=\"Black holes bend spacetime and store immense gravitational energy.\", metadata={\"source\": \"I5\"}),\n",
        "]"
      ],
      "metadata": {
        "id": "744yKibVFCac"
      },
      "execution_count": 20,
      "outputs": []
    },
    {
      "cell_type": "code",
      "source": [
        "#Initialize embedding model and create vector store\n",
        "embedding_model = GoogleGenerativeAIEmbeddings(model=\"models/embedding-001\")\n",
        "\n",
        "vector_store = FAISS.from_documents(\n",
        "    documents = all_docs,\n",
        "    embedding = embedding_model\n",
        ")"
      ],
      "metadata": {
        "id": "KbxCA-KLFGeM"
      },
      "execution_count": 21,
      "outputs": []
    },
    {
      "cell_type": "code",
      "source": [
        "#create retrievers\n",
        "similarity_retriever = vector_store.as_retriever(search_type=\"mmr\", search_kwargs={\"k\": 5})\n",
        "\n",
        "multiquery_retriever = MultiQueryRetriever.from_llm(\n",
        "    retriever = vector_store.as_retriever(search_kwargs={\"k\":5}),\n",
        "    llm = ChatGoogleGenerativeAI(model = \"gemini-2.0-flash\")\n",
        ")"
      ],
      "metadata": {
        "id": "UO9RIXtTFRFm"
      },
      "execution_count": 22,
      "outputs": []
    },
    {
      "cell_type": "code",
      "source": [
        "# Query\n",
        "query = \"How to improve energy levels and maintain balance?\""
      ],
      "metadata": {
        "id": "9QQFRdMSGd9l"
      },
      "execution_count": 23,
      "outputs": []
    },
    {
      "cell_type": "code",
      "source": [
        "# Retrieve results\n",
        "similarity_results = similarity_retriever.invoke(query)\n",
        "multiquery_results= multiquery_retriever.invoke(query)"
      ],
      "metadata": {
        "id": "bY3KhwIiGvXI"
      },
      "execution_count": 24,
      "outputs": []
    },
    {
      "cell_type": "code",
      "source": [
        "for i, doc in enumerate(similarity_results):\n",
        "    print(f\"\\n--- Result {i+1} ---\")\n",
        "    print(doc.page_content)\n",
        "\n",
        "print(\"*\"*150)\n",
        "\n",
        "for i, doc in enumerate(multiquery_results):\n",
        "    print(f\"\\n--- Result {i+1} ---\")\n",
        "    print(doc.page_content)"
      ],
      "metadata": {
        "colab": {
          "base_uri": "https://localhost:8080/"
        },
        "id": "YARMQikfG0Dj",
        "outputId": "52142c27-63a6-473a-bf7b-b0c9bb39509c"
      },
      "execution_count": 25,
      "outputs": [
        {
          "output_type": "stream",
          "name": "stdout",
          "text": [
            "\n",
            "--- Result 1 ---\n",
            "Drinking sufficient water throughout the day helps maintain metabolism and energy.\n",
            "\n",
            "--- Result 2 ---\n",
            "The solar energy system in modern homes helps balance electricity demand.\n",
            "\n",
            "--- Result 3 ---\n",
            "Mindfulness and controlled breathing lower cortisol and improve mental clarity.\n",
            "\n",
            "--- Result 4 ---\n",
            "Python balances readability with power, making it a popular system design language.\n",
            "\n",
            "--- Result 5 ---\n",
            "The 2022 FIFA World Cup was held in Qatar and drew global energy and excitement.\n",
            "******************************************************************************************************************************************************\n",
            "\n",
            "--- Result 1 ---\n",
            "Drinking sufficient water throughout the day helps maintain metabolism and energy.\n",
            "\n",
            "--- Result 2 ---\n",
            "Mindfulness and controlled breathing lower cortisol and improve mental clarity.\n",
            "\n",
            "--- Result 3 ---\n",
            "Consuming leafy greens and fruits helps detox the body and improve longevity.\n",
            "\n",
            "--- Result 4 ---\n",
            "Deep sleep is crucial for cellular repair and emotional regulation.\n",
            "\n",
            "--- Result 5 ---\n",
            "Photosynthesis enables plants to produce energy by converting sunlight.\n",
            "\n",
            "--- Result 6 ---\n",
            "Regular walking boosts heart health and can reduce symptoms of depression.\n"
          ]
        }
      ]
    },
    {
      "cell_type": "markdown",
      "source": [
        "**Contextual Compression Retriever**"
      ],
      "metadata": {
        "id": "-HrGCJF9LQ5m"
      }
    },
    {
      "cell_type": "code",
      "source": [
        "from langchain_community.vectorstores import FAISS\n",
        "from langchain_google_genai import ChatGoogleGenerativeAI, GoogleGenerativeAIEmbeddings\n",
        "from langchain.retrievers.contextual_compression import ContextualCompressionRetriever\n",
        "from langchain.retrievers.document_compressors import LLMChainExtractor\n",
        "from langchain_core.documents import Document"
      ],
      "metadata": {
        "id": "0POLTeBdHobo"
      },
      "execution_count": 39,
      "outputs": []
    },
    {
      "cell_type": "code",
      "source": [
        "# Recreate the document objects from the previous data\n",
        "docs = [\n",
        "    Document(page_content=(\n",
        "        \"\"\"The Grand Canyon is one of the most visited natural wonders in the world.\n",
        "        Photosynthesis is the process by which green plants convert sunlight into energy.\n",
        "        Millions of tourists travel to see it every year. The rocks date back millions of years.\"\"\"\n",
        "    ), metadata={\"source\": \"Doc1\"}),\n",
        "\n",
        "    Document(page_content=(\n",
        "        \"\"\"In medieval Europe, castles were built primarily for defense.\n",
        "        The chlorophyll in plant cells captures sunlight during photosynthesis.\n",
        "        Knights wore armor made of metal. Siege weapons were often used to breach castle walls.\"\"\"\n",
        "    ), metadata={\"source\": \"Doc2\"}),\n",
        "\n",
        "    Document(page_content=(\n",
        "        \"\"\"Basketball was invented by Dr. James Naismith in the late 19th century.\n",
        "        It was originally played with a soccer ball and peach baskets. NBA is now a global league.\"\"\"\n",
        "    ), metadata={\"source\": \"Doc3\"}),\n",
        "\n",
        "    Document(page_content=(\n",
        "        \"\"\"The history of cinema began in the late 1800s. Silent films were the earliest form.\n",
        "        Thomas Edison was among the pioneers. Photosynthesis does not occur in animal cells.\n",
        "        Modern filmmaking involves complex CGI and sound design.\"\"\"\n",
        "    ), metadata={\"source\": \"Doc4\"})\n",
        "]"
      ],
      "metadata": {
        "id": "G908-blANKK0"
      },
      "execution_count": 40,
      "outputs": []
    },
    {
      "cell_type": "code",
      "source": [
        "#Initialize embedding model and create vector store\n",
        "embedding_model = GoogleGenerativeAIEmbeddings(model=\"models/embedding-001\")\n",
        "\n",
        "vector_store = FAISS.from_documents(docs, embedding_model)"
      ],
      "metadata": {
        "id": "jIPOTN7tNMXO"
      },
      "execution_count": 41,
      "outputs": []
    },
    {
      "cell_type": "code",
      "source": [
        "base_retriever = vector_store.as_retriever(search_kwargs={\"k\": 5})"
      ],
      "metadata": {
        "id": "HD8OgSgfNgoN"
      },
      "execution_count": 42,
      "outputs": []
    },
    {
      "cell_type": "code",
      "source": [
        "# Set up the compressor using an LLM\n",
        "llm = ChatGoogleGenerativeAI(model = \"gemini-2.0-flash\")\n",
        "compressor = LLMChainExtractor.from_llm(llm)"
      ],
      "metadata": {
        "id": "_A0d8Ol8N7xr"
      },
      "execution_count": 43,
      "outputs": []
    },
    {
      "cell_type": "code",
      "source": [
        "# Create the contextual compression retriever\n",
        "compression_retriever = ContextualCompressionRetriever(\n",
        "    base_retriever = base_retriever,\n",
        "    base_compressor =compressor\n",
        ")"
      ],
      "metadata": {
        "id": "1Trb1YOOOPJ1"
      },
      "execution_count": 44,
      "outputs": []
    },
    {
      "cell_type": "code",
      "source": [
        "# Query the retriever\n",
        "query = \"What is photosynthesis?\"\n",
        "compressed_results = compression_retriever.invoke(query)"
      ],
      "metadata": {
        "id": "XU7nVzXdOf7I"
      },
      "execution_count": 49,
      "outputs": []
    },
    {
      "cell_type": "code",
      "source": [
        "for i, doc in enumerate(compressed_results):\n",
        "    print(f\"\\n--- Result {i+1} ---\")\n",
        "    print(doc.page_content)"
      ],
      "metadata": {
        "colab": {
          "base_uri": "https://localhost:8080/"
        },
        "id": "NybjqOI2O5od",
        "outputId": "7e4ebadc-936a-4819-9187-e651ce459ba5"
      },
      "execution_count": 50,
      "outputs": [
        {
          "output_type": "stream",
          "name": "stdout",
          "text": [
            "\n",
            "--- Result 1 ---\n",
            "Photosynthesis does not occur in animal cells.\n",
            "\n",
            "--- Result 2 ---\n",
            "Photosynthesis is the process by which green plants convert sunlight into energy.\n",
            "\n",
            "--- Result 3 ---\n",
            "The chlorophyll in plant cells captures sunlight during photosynthesis.\n"
          ]
        }
      ]
    },
    {
      "cell_type": "code",
      "source": [],
      "metadata": {
        "id": "g3ROI42bPCet"
      },
      "execution_count": null,
      "outputs": []
    }
  ]
}